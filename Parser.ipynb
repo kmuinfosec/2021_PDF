{
 "cells": [
  {
   "cell_type": "code",
   "execution_count": 1,
   "id": "8ed9a5c2",
   "metadata": {},
   "outputs": [],
   "source": [
    "import os\n",
    "import io\n",
    "from tqdm.notebook import tqdm"
   ]
  },
  {
   "cell_type": "code",
   "execution_count": 2,
   "id": "c5e16745",
   "metadata": {},
   "outputs": [],
   "source": [
    "BEN_PATH = r'D:\\Source\\pdf\\Benign_PDF'\n",
    "MAL_PATH = r'D:\\Source\\pdf\\Malicious_PDF'"
   ]
  },
  {
   "cell_type": "code",
   "execution_count": 81,
   "id": "666e0c05",
   "metadata": {},
   "outputs": [],
   "source": [
    "def parse_pdf(file):\n",
    "    ret = {\n",
    "        'header':{},\n",
    "        'body':{'inv_obj_cnt':0},\n",
    "        'xref':{},\n",
    "        'trailer':{}\n",
    "    }\n",
    "    \n",
    "    if isinstance(file, io.BufferedReader):\n",
    "        buffer = file.read()\n",
    "    elif isinstance(file, bytes):\n",
    "        buffer = file\n",
    "    elif os.path.isfile(file):\n",
    "        with open(file, 'rb') as f:\n",
    "            buffer = f.read()\n",
    "    buffer = buffer.replace(\"endobj\".encode(), \"endobj\\r\\n\".encode())\n",
    "    buffer = buffer.replace(\"\\t\".encode(), \" \".encode())\n",
    "    buffer = buffer.replace(\" obj\".encode(), \" obj\\r\\n\".encode())\n",
    "    buffer = buffer.split('\\r\\n'.encode())\n",
    "    data = []\n",
    "    for i in buffer:\n",
    "        for j in i.split('\\r'.encode()):\n",
    "            for k in j.split('\\n'.encode()):\n",
    "                data.append(k)\n",
    "    \n",
    "    head = 0\n",
    "    try:\n",
    "        ret['header'] = data[head].decode()\n",
    "    except UnicodeDecodeError:\n",
    "        ret['header'] = data[head]\n",
    "    while  head < len(data) and 'xref'.encode() not in data[head]:\n",
    "        # try parse obj\n",
    "        temp = data[head].split(\" \".encode())\n",
    "        if len(temp) == 3 and temp[-1] == 'obj'.encode():\n",
    "            try:\n",
    "                obj_num, obj_version = map(int, temp[:-1])\n",
    "                ret['body'][obj_num] = {'version':obj_version, 'tags':set()}\n",
    "                head += 1\n",
    "                if head >= len(data):\n",
    "                    break\n",
    "                while head < len(data) and 'endobj'.encode() not in data[head]:\n",
    "                    if 'stream'.encode() in data[head]:\n",
    "                        ret['body'][obj_num]['stream'] = b''\n",
    "                        head += 1\n",
    "                        if head >= len(data):\n",
    "                            ret['body'][obj_num]['actual_length'] = len(ret['body'][obj_num]['stream'])\n",
    "                            break                        \n",
    "                        while head < len(data) and 'endstream'.encode() not in data[head]:\n",
    "                            ret['body'][obj_num]['stream'] += data[head]\n",
    "                            head += 1\n",
    "                            if head >= len(data):\n",
    "                                break\n",
    "                        ret['body'][obj_num]['actual_length'] = len(ret['body'][obj_num]['stream'])\n",
    "                    if head == len(data):\n",
    "                        break\n",
    "                    temp = data[head].split(\" \".encode())\n",
    "                    if temp[0] == '/Length'.encode() and len(temp) == 2:\n",
    "                        ret['body'][obj_num]['length'] = int(temp[1])\n",
    "                    for i in temp:\n",
    "                        for j in i.split('/'.encode()):\n",
    "                            ret['body'][obj_num]['tags'].add(j.decode().replace(\"<<\", \"\").replace(\">>\", \"\").replace(\"[\", \"\").replace(\"]\", \"\"))\n",
    "                    head += 1\n",
    "            except ValueError:\n",
    "                ret['body']['inv_obj_cnt'] += 1\n",
    "        head += 1\n",
    "    return ret"
   ]
  },
  {
   "cell_type": "code",
   "execution_count": 85,
   "id": "caab6e89",
   "metadata": {},
   "outputs": [],
   "source": [
    "import pickle"
   ]
  },
  {
   "cell_type": "code",
   "execution_count": 89,
   "id": "cb03d60a",
   "metadata": {
    "scrolled": true
   },
   "outputs": [
    {
     "data": {
      "application/vnd.jupyter.widget-view+json": {
       "model_id": "01a3b76d6d1a4539a5854d54104573b6",
       "version_major": 2,
       "version_minor": 0
      },
      "text/plain": [
       "  0%|          | 0/10649 [00:00<?, ?it/s]"
      ]
     },
     "metadata": {},
     "output_type": "display_data"
    }
   ],
   "source": [
    "jobs = []\n",
    "for path, _, files in os.walk(MAL_PATH):\n",
    "    for file in files:\n",
    "        if os.extsep in file:\n",
    "            name, ext = file.split(os.extsep, maxsplit=1)\n",
    "        else:\n",
    "            name, ext = file, None\n",
    "        if ext == 'pdf' or ext is None:\n",
    "            jobs.append(path + os.sep + file)\n",
    "for job in tqdm(jobs):\n",
    "    result = parse_pdf(job)\n",
    "    filename = job.split(os.sep)[-1].split(os.extsep)[0]\n",
    "    with open(r'E:\\Source\\pdf\\mal' + os.sep + filename + os.extsep + 'pickle', 'wb') as f:\n",
    "        pickle.dump(result, f)"
   ]
  },
  {
   "cell_type": "code",
   "execution_count": 90,
   "id": "f556bbf9",
   "metadata": {},
   "outputs": [
    {
     "data": {
      "application/vnd.jupyter.widget-view+json": {
       "model_id": "0c47bdbe192a400f89892adc436e6142",
       "version_major": 2,
       "version_minor": 0
      },
      "text/plain": [
       "  0%|          | 0/103567 [00:00<?, ?it/s]"
      ]
     },
     "metadata": {},
     "output_type": "display_data"
    }
   ],
   "source": [
    "jobs = []\n",
    "for path, _, files in os.walk(BEN_PATH):\n",
    "    for file in files:\n",
    "        if os.extsep in file:\n",
    "            name, ext = file.split(os.extsep, maxsplit=1)\n",
    "        else:\n",
    "            name, ext = file, None\n",
    "        if ext == 'pdf' or ext is None:\n",
    "            jobs.append(path + os.sep + file)\n",
    "for job in tqdm(jobs):\n",
    "    result = parse_pdf(job)\n",
    "    filename = job.split(os.sep)[-1].split(os.extsep)[0]\n",
    "    with open(r'E:\\Source\\pdf\\ben' + os.sep + filename + os.extsep + 'pickle', 'wb') as f:\n",
    "        pickle.dump(result, f)"
   ]
  },
  {
   "cell_type": "code",
   "execution_count": 74,
   "id": "98d0d05c",
   "metadata": {},
   "outputs": [
    {
     "name": "stdout",
     "output_type": "stream",
     "text": [
      "{'version': 0, 'tags': {'', '0', 'Count', 'Pages', '1', 'Kids28', 'R', 'Type'}}\n"
     ]
    }
   ],
   "source": [
    "print(result['body'][7])"
   ]
  },
  {
   "cell_type": "code",
   "execution_count": null,
   "id": "4ae42817",
   "metadata": {},
   "outputs": [],
   "source": []
  }
 ],
 "metadata": {
  "kernelspec": {
   "display_name": "Python 3 (ipykernel)",
   "language": "python",
   "name": "python3"
  },
  "language_info": {
   "codemirror_mode": {
    "name": "ipython",
    "version": 3
   },
   "file_extension": ".py",
   "mimetype": "text/x-python",
   "name": "python",
   "nbconvert_exporter": "python",
   "pygments_lexer": "ipython3",
   "version": "3.9.5"
  }
 },
 "nbformat": 4,
 "nbformat_minor": 5
}
