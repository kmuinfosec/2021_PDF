{
 "cells": [
  {
   "cell_type": "markdown",
   "id": "432984a6",
   "metadata": {},
   "source": [
    "### PDF Data Type\n",
    "- Comment: %\n",
    "- Literal: ( )\n",
    "- Hex: < >\n",
    "- Name: /, # ord\n",
    "- Array: [ ]\n",
    "- Dictionary: << key value key value >>\n",
    "- Indirect: n1 n2 R...\n",
    "- Steam: stream ~ endtream"
   ]
  },
  {
   "cell_type": "code",
   "execution_count": 1,
   "id": "bbf94063",
   "metadata": {},
   "outputs": [],
   "source": [
    "import os\n",
    "import pickle\n",
    "\n",
    "import numpy as np\n",
    "from matplotlib import pyplot as plt\n",
    "from tqdm.notebook import tqdm"
   ]
  },
  {
   "cell_type": "code",
   "execution_count": 2,
   "id": "dcf5de1d",
   "metadata": {},
   "outputs": [],
   "source": [
    "from jupyterthemes import jtplot\n",
    "jtplot.style('monokai')"
   ]
  },
  {
   "cell_type": "code",
   "execution_count": 3,
   "id": "8a9ac0ad",
   "metadata": {},
   "outputs": [],
   "source": [
    "MAL_PATH = r'D:\\Source\\pdf\\Malicious_PDF'\n",
    "BEN_PATH = r'D:\\Source\\pdf\\Benign_PDF'"
   ]
  },
  {
   "cell_type": "markdown",
   "id": "678c78aa",
   "metadata": {},
   "source": [
    "### Steam Length Distribution"
   ]
  },
  {
   "cell_type": "code",
   "execution_count": 50,
   "id": "fd0b9136",
   "metadata": {},
   "outputs": [
    {
     "data": {
      "application/vnd.jupyter.widget-view+json": {
       "model_id": "ec0e1b31701c4572b9e042f4a83a155c",
       "version_major": 2,
       "version_minor": 0
      },
      "text/plain": [
       "  0%|          | 0/103567 [00:00<?, ?it/s]"
      ]
     },
     "metadata": {},
     "output_type": "display_data"
    }
   ],
   "source": [
    "ben_lengths = []\n",
    "temp = []\n",
    "for path, _, files in os.walk(r'E:\\Source\\pdf\\ben'):\n",
    "    for file in files:\n",
    "        name, ext = file.split(os.extsep)\n",
    "        if ext == 'pickle':\n",
    "            temp.append(path + os.sep + file)\n",
    "for abspath in tqdm(temp):\n",
    "    with open(abspath, 'rb') as f:\n",
    "        data = pickle.load(f)\n",
    "        for i in data['body']:\n",
    "            if isinstance(i, int):\n",
    "                if 'stream' in data['body'][i]:\n",
    "                    if data['body'][i]['actual_length'] > 0:\n",
    "                        ben_lengths.append(data['body'][i]['actual_length'])"
   ]
  },
  {
   "cell_type": "code",
   "execution_count": 51,
   "id": "0c11db96",
   "metadata": {},
   "outputs": [
    {
     "data": {
      "application/vnd.jupyter.widget-view+json": {
       "model_id": "b9b7b41408174685b3bb183fde3c6589",
       "version_major": 2,
       "version_minor": 0
      },
      "text/plain": [
       "  0%|          | 0/10648 [00:00<?, ?it/s]"
      ]
     },
     "metadata": {},
     "output_type": "display_data"
    }
   ],
   "source": [
    "mal_lengths = []\n",
    "temp = []\n",
    "for path, _, files in os.walk(r'E:\\Source\\pdf\\mal'):\n",
    "    for file in files:\n",
    "        name, ext = file.split(os.extsep)\n",
    "        if ext == 'pickle':\n",
    "            temp.append(path + os.sep + file)\n",
    "for abspath in tqdm(temp):\n",
    "    with open(abspath, 'rb') as f:\n",
    "        data = pickle.load(f)\n",
    "        for i in data['body']:\n",
    "            if isinstance(i, int):\n",
    "                if 'stream' in data['body'][i]:\n",
    "                    if data['body'][i]['actual_length'] > 0:\n",
    "                        mal_lengths.append(data['body'][i]['actual_length'])"
   ]
  },
  {
   "cell_type": "code",
   "execution_count": 70,
   "id": "45e25b7a",
   "metadata": {
    "scrolled": true
   },
   "outputs": [
    {
     "data": {
      "image/png": "[encoded data removed]",
      "text/plain": [
       "<Figure size 1152x648 with 1 Axes>"
      ]
     },
     "metadata": {},
     "output_type": "display_data"
    }
   ],
   "source": [
    "mal_lengths = sorted(mal_lengths)\n",
    "ben_lengths = sorted(ben_lengths)\n",
    "plt.figure(figsize=(16, 9))\n",
    "plt.title(\"Stream Length Distribution\")\n",
    "plt.hist(mal_lengths[int(len(mal_lengths) * 0.2):-int(len(mal_lengths) * 0.2)], bins=100, density=True, color='crimson', alpha=0.4)\n",
    "plt.hist(ben_lengths[int(len(ben_lengths) * 0.2):-int(len(ben_lengths) * 0.2)], bins=100, density=True, color='slateblue', alpha=0.4)\n",
    "plt.savefig('result_100_2.png')\n",
    "plt.ylabel(\"density\")\n",
    "plt.xlabel(\"stream length\")\n",
    "plt.show()"
   ]
  },
  {
   "cell_type": "markdown",
   "id": "c4ec1d30",
   "metadata": {},
   "source": [
    "### Stream Ratio Distribution"
   ]
  },
  {
   "cell_type": "code",
   "execution_count": 58,
   "id": "28657553",
   "metadata": {},
   "outputs": [
    {
     "data": {
      "application/vnd.jupyter.widget-view+json": {
       "model_id": "5a314b6b39b543e4bf8bd89283827ad5",
       "version_major": 2,
       "version_minor": 0
      },
      "text/plain": [
       "  0%|          | 0/10648 [00:00<?, ?it/s]"
      ]
     },
     "metadata": {},
     "output_type": "display_data"
    }
   ],
   "source": [
    "mal_ratio = []\n",
    "temp = dict()\n",
    "size = dict()\n",
    "for path, _, files in os.walk(r'E:\\Source\\pdf\\mal'):\n",
    "    for file in files:\n",
    "        name, ext = file.split(os.extsep)\n",
    "        if ext == 'pickle':\n",
    "            temp[file] = path + os.sep + file\n",
    "            \n",
    "for path, _, files in os.walk(r'D:\\Source\\pdf\\Malicious_PDF'):\n",
    "    for file in files:\n",
    "        if os.extsep not in file:\n",
    "            size[file] = os.path.getsize(path + os.sep + file)\n",
    "            \n",
    "for abspath in tqdm(temp.values()):\n",
    "    act_name = abspath.split(os.sep)[-1].split(os.extsep)[0]\n",
    "    with open(abspath, 'rb') as f:\n",
    "        data = pickle.load(f)\n",
    "        stream_total = 0\n",
    "        for i in data['body']:\n",
    "            if isinstance(i, int):\n",
    "                if 'stream' in data['body'][i]:\n",
    "                    stream_total += data['body'][i]['actual_length']\n",
    "        mal_ratio.append(stream_total / size[act_name])"
   ]
  },
  {
   "cell_type": "code",
   "execution_count": 61,
   "id": "a36bc266",
   "metadata": {
    "scrolled": true
   },
   "outputs": [
    {
     "data": {
      "application/vnd.jupyter.widget-view+json": {
       "model_id": "fae24dc654054b44b60286785323fb0f",
       "version_major": 2,
       "version_minor": 0
      },
      "text/plain": [
       "  0%|          | 0/103567 [00:00<?, ?it/s]"
      ]
     },
     "metadata": {},
     "output_type": "display_data"
    }
   ],
   "source": [
    "ben_ratio = []\n",
    "temp = []\n",
    "for path, _, files in os.walk(r'E:\\Source\\pdf\\ben'):\n",
    "    for file in files:\n",
    "        name, ext = file.split(os.extsep)\n",
    "        if ext == 'pickle':\n",
    "            temp.append(path + os.sep + file)\n",
    "for abspath in tqdm(temp):\n",
    "    act_name = abspath.split(os.sep)[-1].split(os.extsep)[0] + os.extsep + 'pdf'\n",
    "    with open(abspath, 'rb') as f:\n",
    "        data = pickle.load(f)\n",
    "        stream_total = 0\n",
    "        for i in data['body']:\n",
    "            if isinstance(i, int):\n",
    "                if 'stream' in data['body'][i]:\n",
    "                    stream_total += data['body'][i]['actual_length']\n",
    "        if os.path.getsize(r'D:\\Source\\pdf\\Benign_PDF' + os.sep + act_name) != 0:\n",
    "            ben_ratio.append(stream_total / os.path.getsize(r'D:\\Source\\pdf\\Benign_PDF' + os.sep + act_name))"
   ]
  },
  {
   "cell_type": "code",
   "execution_count": 69,
   "id": "55790277",
   "metadata": {
    "scrolled": false
   },
   "outputs": [
    {
     "data": {
      "image/png": "[encoded data removed]",
      "text/plain": [
       "<Figure size 1152x648 with 1 Axes>"
      ]
     },
     "metadata": {},
     "output_type": "display_data"
    }
   ],
   "source": [
    "plt.figure(figsize=(16, 9))\n",
    "plt.hist(mal_ratio, bins=100, density=True, color='crimson', alpha=0.4)\n",
    "plt.hist(ben_ratio, bins=100, density=True, color='slateblue', alpha=0.4)\n",
    "plt.title(\"File Stream length / File Size Ratio Histogram\")\n",
    "plt.ylabel(\"Density\")\n",
    "plt.xlabel(\"Ratio\")\n",
    "plt.savefig('ratio_result_100.png')\n",
    "plt.show()"
   ]
  },
  {
   "cell_type": "markdown",
   "id": "5c78aa7f",
   "metadata": {},
   "source": [
    "### Stream STD Distribution"
   ]
  },
  {
   "cell_type": "code",
   "execution_count": 71,
   "id": "fdd7cfbc",
   "metadata": {},
   "outputs": [],
   "source": [
    "import numpy as np"
   ]
  },
  {
   "cell_type": "code",
   "execution_count": 120,
   "id": "feb1492f",
   "metadata": {},
   "outputs": [
    {
     "data": {
      "application/vnd.jupyter.widget-view+json": {
       "model_id": "3fc0d5b914844566adad23fd7caa95b4",
       "version_major": 2,
       "version_minor": 0
      },
      "text/plain": [
       "  0%|          | 0/103567 [00:00<?, ?it/s]"
      ]
     },
     "metadata": {},
     "output_type": "display_data"
    }
   ],
   "source": [
    "ben_stds = []\n",
    "temp = []\n",
    "for path, _, files in os.walk(r'E:\\Source\\pdf\\ben'):\n",
    "    for file in files:\n",
    "        name, ext = file.split(os.extsep)\n",
    "        if ext == 'pickle':\n",
    "            temp.append(path + os.sep + file)\n",
    "for abspath in tqdm(temp):\n",
    "    with open(abspath, 'rb') as f:\n",
    "        data = pickle.load(f)\n",
    "        temp = []\n",
    "        for i in data['body']:\n",
    "            if isinstance(i, int):\n",
    "                if 'stream' in data['body'][i]:\n",
    "                    if data['body'][i]['actual_length'] > 0:\n",
    "                        temp.append(data['body'][i]['actual_length'])\n",
    "        if len(temp):\n",
    "            val = np.std(temp)\n",
    "            if val:\n",
    "                ben_stds.append(val)"
   ]
  },
  {
   "cell_type": "code",
   "execution_count": 121,
   "id": "aff357f1",
   "metadata": {
    "scrolled": false
   },
   "outputs": [
    {
     "data": {
      "application/vnd.jupyter.widget-view+json": {
       "model_id": "9a3235f6e81c419d95b100811525bb0b",
       "version_major": 2,
       "version_minor": 0
      },
      "text/plain": [
       "  0%|          | 0/10648 [00:00<?, ?it/s]"
      ]
     },
     "metadata": {},
     "output_type": "display_data"
    }
   ],
   "source": [
    "mal_stds = []\n",
    "temp = []\n",
    "for path, _, files in os.walk(r'E:\\Source\\pdf\\mal'):\n",
    "    for file in files:\n",
    "        name, ext = file.split(os.extsep)\n",
    "        if ext == 'pickle':\n",
    "            temp.append(path + os.sep + file)\n",
    "for abspath in tqdm(temp):\n",
    "    with open(abspath, 'rb') as f:\n",
    "        data = pickle.load(f)\n",
    "        temp = []\n",
    "        for i in data['body']:\n",
    "            if isinstance(i, int):\n",
    "                if 'stream' in data['body'][i]:\n",
    "                    if data['body'][i]['actual_length'] > 0:\n",
    "                        temp.append(data['body'][i]['actual_length'])\n",
    "        if len(temp):\n",
    "            val = np.std(temp)\n",
    "            if val:\n",
    "                mal_stds.append(val)"
   ]
  },
  {
   "cell_type": "code",
   "execution_count": 123,
   "id": "ae9db513",
   "metadata": {},
   "outputs": [],
   "source": [
    "def robust(data, amount):\n",
    "    data = sorted(data)\n",
    "    return data[int(len(data) * amount):-int(len(data) * amount)]"
   ]
  },
  {
   "cell_type": "code",
   "execution_count": 137,
   "id": "ccbbe4bb",
   "metadata": {
    "scrolled": false
   },
   "outputs": [
    {
     "data": {
      "image/png": "[encoded data removed]",
      "text/plain": [
       "<Figure size 1152x648 with 1 Axes>"
      ]
     },
     "metadata": {},
     "output_type": "display_data"
    }
   ],
   "source": [
    "plt.figure(figsize=(16, 9))\n",
    "ben = robust(ben_stds, 0.05)\n",
    "mal = robust(mal_stds, 0.05)\n",
    "range_ = (0, max(max(ben), max(mal)))\n",
    "plt.hist(ben, range=range_, bins=100, density=True, color='slateblue', alpha=0.4)\n",
    "plt.hist(mal, range=range_, bins=100, density=True, color='crimson', alpha=0.4)\n",
    "plt.title(\"Stream STD Distribution\")\n",
    "plt.ylabel(\"Density\")\n",
    "plt.xlabel(\"STD\")\n",
    "plt.savefig('std_result_100_05.png')\n",
    "plt.show()"
   ]
  },
  {
   "cell_type": "markdown",
   "id": "00a29045",
   "metadata": {},
   "source": [
    "### Stream Max Entropy Distribution"
   ]
  },
  {
   "cell_type": "code",
   "execution_count": 160,
   "id": "ebc4b20d",
   "metadata": {},
   "outputs": [],
   "source": [
    "from collections import Counter\n",
    "import math\n",
    "\n",
    "def get_entropy(data):\n",
    "    if not data:\n",
    "        return 0.0\n",
    "    occurrences = Counter(bytearray(data))\n",
    "    entropy = 0\n",
    "    for x in occurrences.values():\n",
    "        p_x = float(x) / len(data)\n",
    "        entropy -= p_x * math.log(p_x, 2)\n",
    "    return entropy"
   ]
  },
  {
   "cell_type": "code",
   "execution_count": 171,
   "id": "3348f11a",
   "metadata": {},
   "outputs": [],
   "source": [
    "import multiprocessingiprocessingiprocessingprocessing as mp"
   ]
  },
  {
   "cell_type": "code",
   "execution_count": 168,
   "id": "9ee81eeb",
   "metadata": {},
   "outputs": [
    {
     "data": {
      "application/vnd.jupyter.widget-view+json": {
       "model_id": "c2bd4f47d9c142c8b91efa3bd3aca141",
       "version_major": 2,
       "version_minor": 0
      },
      "text/plain": [
       "  0%|          | 0/103567 [00:00<?, ?it/s]"
      ]
     },
     "metadata": {},
     "output_type": "display_data"
    }
   ],
   "source": [
    "ben_entropies = []\n",
    "temp = []\n",
    "for path, _, files in os.walk(r'E:\\Source\\pdf\\ben'):\n",
    "    for file in files:\n",
    "        name, ext = file.split(os.extsep)\n",
    "        if ext == 'pickle':\n",
    "            temp.append(path + os.sep + file)\n",
    "for abspath in tqdm(temp):\n",
    "    entropy = 0\n",
    "    with open(abspath, 'rb') as f:\n",
    "        data = pickle.load(f)\n",
    "        for i in data['body']:\n",
    "            if isinstance(i, int):\n",
    "                if 'stream' in data['body'][i]:\n",
    "                    stream = data['body'][i]['stream']\n",
    "                    if len(stream) > 0:\n",
    "                        stream = stream.encode()\n",
    "                        temp = get_entropy(stream)\n",
    "                        if temp > entropy:\n",
    "                            entropy = temp\n",
    "    if entropy:\n",
    "        ben_entropies.append(entropy)"
   ]
  },
  {
   "cell_type": "code",
   "execution_count": 169,
   "id": "69b546f5",
   "metadata": {},
   "outputs": [
    {
     "data": {
      "application/vnd.jupyter.widget-view+json": {
       "model_id": "eaf9b8996a874288a821fe32030aeb9c",
       "version_major": 2,
       "version_minor": 0
      },
      "text/plain": [
       "  0%|          | 0/10648 [00:00<?, ?it/s]"
      ]
     },
     "metadata": {},
     "output_type": "display_data"
    }
   ],
   "source": [
    "mal_entropies = []\n",
    "temp = []\n",
    "for path, _, files in os.walk(r'E:\\Source\\pdf\\mal'):\n",
    "    for file in files:\n",
    "        name, ext = file.split(os.extsep)\n",
    "        if ext == 'pickle':\n",
    "            temp.append(path + os.sep + file)\n",
    "for abspath in tqdm(temp):\n",
    "    entropy = 0\n",
    "    with open(abspath, 'rb') as f:\n",
    "        data = pickle.load(f)\n",
    "        for i in data['body']:\n",
    "            if isinstance(i, int):\n",
    "                if 'stream' in data['body'][i]:\n",
    "                    stream = data['body'][i]['stream']\n",
    "                    if len(stream) > 0:\n",
    "                        stream = stream.encode()\n",
    "                        temp = get_entropy(stream)\n",
    "                        if temp > entropy:\n",
    "                            entropy = temp\n",
    "    if entropy:\n",
    "        mal_entropies.append(entropy)"
   ]
  },
  {
   "cell_type": "code",
   "execution_count": 170,
   "id": "5d5902d9",
   "metadata": {
    "scrolled": false
   },
   "outputs": [
    {
     "data": {
      "image/png": "[encoded data removed]",
      "text/plain": [
       "<Figure size 1152x648 with 1 Axes>"
      ]
     },
     "metadata": {},
     "output_type": "display_data"
    }
   ],
   "source": [
    "plt.figure(figsize=(16, 9))\n",
    "ben = robust(ben_entropies, 0.05)\n",
    "mal = robust(mal_entropies, 0.05)\n",
    "range_ = (0, max(max(ben), max(mal)))\n",
    "plt.hist(ben_entropies, range=range_, bins=100, density=True, color='slateblue', alpha=0.4)\n",
    "plt.hist(mal_entropies, range=range_, bins=100, density=True, color='crimson', alpha=0.4)\n",
    "plt.title(\"Stream Entropy Distribution\")\n",
    "plt.ylabel(\"Density\")\n",
    "plt.xlabel(\"Entropy\")\n",
    "plt.savefig('entropy_result_100.png')\n",
    "plt.show()"
   ]
  },
  {
   "cell_type": "markdown",
   "id": "9573433f",
   "metadata": {},
   "source": [
    "### Tag Cardinality Distribution"
   ]
  },
  {
   "cell_type": "code",
   "execution_count": 172,
   "id": "b0c1efc0",
   "metadata": {},
   "outputs": [
    {
     "data": {
      "application/vnd.jupyter.widget-view+json": {
       "model_id": "1ba07ac1281744029552e9a854116534",
       "version_major": 2,
       "version_minor": 0
      },
      "text/plain": [
       "  0%|          | 0/103567 [00:00<?, ?it/s]"
      ]
     },
     "metadata": {},
     "output_type": "display_data"
    }
   ],
   "source": [
    "ben_cardinality = []\n",
    "temp = []\n",
    "for path, _, files in os.walk(r'E:\\Source\\pdf\\ben'):\n",
    "    for file in files:\n",
    "        name, ext = file.split(os.extsep)\n",
    "        if ext == 'pickle':\n",
    "            temp.append(path + os.sep + file)\n",
    "for abspath in tqdm(temp):\n",
    "    with open(abspath, 'rb') as f:\n",
    "        data = pickle.load(f)\n",
    "        for i in data['body']:\n",
    "            if isinstance(i, int):\n",
    "                ben_cardinality.append(len(set(data['body'][i]['tags'])))"
   ]
  },
  {
   "cell_type": "code",
   "execution_count": 173,
   "id": "ecd24835",
   "metadata": {},
   "outputs": [
    {
     "data": {
      "application/vnd.jupyter.widget-view+json": {
       "model_id": "120bca18e6f546edbb271789c908476a",
       "version_major": 2,
       "version_minor": 0
      },
      "text/plain": [
       "  0%|          | 0/10648 [00:00<?, ?it/s]"
      ]
     },
     "metadata": {},
     "output_type": "display_data"
    }
   ],
   "source": [
    "mal_cardinality = []\n",
    "temp = []\n",
    "for path, _, files in os.walk(r'E:\\Source\\pdf\\mal'):\n",
    "    for file in files:\n",
    "        name, ext = file.split(os.extsep)\n",
    "        if ext == 'pickle':\n",
    "            temp.append(path + os.sep + file)\n",
    "for abspath in tqdm(temp):\n",
    "    with open(abspath, 'rb') as f:\n",
    "        data = pickle.load(f)\n",
    "        for i in data['body']:\n",
    "            if isinstance(i, int):\n",
    "                mal_cardinality.append(len(set(data['body'][i]['tags'])))"
   ]
  },
  {
   "cell_type": "code",
   "execution_count": 175,
   "id": "f1ce72bf",
   "metadata": {},
   "outputs": [
    {
     "data": {
      "image/png": "[encoded data removed]",
      "text/plain": [
       "<Figure size 1152x648 with 1 Axes>"
      ]
     },
     "metadata": {},
     "output_type": "display_data"
    }
   ],
   "source": [
    "plt.figure(figsize=(16, 9))\n",
    "ben = robust(ben_cardinality, 0.05)\n",
    "mal = robust(mal_cardinality, 0.05)\n",
    "range_ = (0, max(max(ben), max(mal)))\n",
    "plt.hist(ben_cardinality, range=range_, bins=10, density=True, color='slateblue', alpha=0.4)\n",
    "plt.hist(mal_cardinality, range=range_, bins=10, density=True, color='crimson', alpha=0.4)\n",
    "plt.title(\"Tag Cardinality Distribution\")\n",
    "plt.ylabel(\"Density\")\n",
    "plt.xlabel(\"Cardinality\")\n",
    "plt.savefig('cardinality_result_100.png')\n",
    "plt.show()"
   ]
  },
  {
   "cell_type": "markdown",
   "id": "db470d4b",
   "metadata": {},
   "source": [
    "### Simple Detector"
   ]
  },
  {
   "cell_type": "code",
   "execution_count": null,
   "id": "3147cf37",
   "metadata": {},
   "outputs": [],
   "source": [
    "import json\n",
    "\n",
    "total = 0\n",
    "\n",
    "\n",
    "count = 0\n",
    "for path, _, files in os.walk(BEN_PATH):\n",
    "    for file in files:\n",
    "        if 'pdfjson' in file:\n",
    "            with open(path + os.sep + file, 'r', encoding='utf-8') as f:\n",
    "                data = f.read()\n",
    "                if \"/JS\" in data or \"/js\" in data or \"/Javascript\" in data or \"/javascript\" in data or \"/JavaScript\" in data:\n",
    "                    count += 1\n",
    "                    print(path + os.sep + file)\n",
    "            total += 1\n",
    "print(count, total)"
   ]
  },
  {
   "cell_type": "code",
   "execution_count": null,
   "id": "0a2e825a",
   "metadata": {},
   "outputs": [],
   "source": []
  }
 ],
 "metadata": {
  "kernelspec": {
   "display_name": "Python 3 (ipykernel)",
   "language": "python",
   "name": "python3"
  },
  "language_info": {
   "codemirror_mode": {
    "name": "ipython",
    "version": 3
   },
   "file_extension": ".py",
   "mimetype": "text/x-python",
   "name": "python",
   "nbconvert_exporter": "python",
   "pygments_lexer": "ipython3",
   "version": "3.9.6"
  }
 },
 "nbformat": 4,
 "nbformat_minor": 5
}
